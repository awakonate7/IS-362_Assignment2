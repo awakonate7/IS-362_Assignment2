{
 "cells": [
  {
   "cell_type": "markdown",
   "id": "51a5a3fc",
   "metadata": {},
   "source": [
    "Awa Konate\n",
    "\n",
    "IS362 - Assignment 2\n",
    "\n",
    "The script below contains four lists: school, names, ages, and genders. Each list has 5 items. The lists are aggregated via the zip() function."
   ]
  },
  {
   "cell_type": "code",
   "execution_count": null,
   "id": "ed9e3008",
   "metadata": {},
   "outputs": [],
   "source": [
    "school = [\"CUNY SPS\", \"BMCC\", \"Baruch College\",\"BCC\", \"Hunter College\"]\n",
    "names = [\"Awa\", \"Zara\", \"Faty\", \"Elizabeth\", \"Mike\"]\n",
    "ages =  [20, 25, 35, 22, 29]\n",
    "genders = [\"male\", \"female\", \"female\", \"female\", \"male\"]\n",
    "\n",
    "records = list(zip(school, names, ages, genders))\n",
    "print(records)\n",
    "[('CUNY SPS', 'Awa', 20, 'male'), ('BMCC', 'Zara', 25, 'female'), ('Baruch College', 'Faty', 35, 'female'), ('BCC', 'Elizabeth', 22, 'female'), ('Hunter College', 'Mike', 29, 'male')]\n"
   ]
  },
  {
   "cell_type": "markdown",
   "id": "5ca64b3d",
   "metadata": {},
   "source": [
    "One aspect of data structures that I found challenging is the use of tuple unpacking to get the individual items from the tuples returned by the zip() function."
   ]
  },
  {
   "cell_type": "code",
   "execution_count": null,
   "id": "799d1b81",
   "metadata": {},
   "outputs": [],
   "source": [
    "for name, age, gender in zip(names, ages, genders):\n",
    "    print(\" Name=>\", name, \" -Age=>\", age, \" -Gender=>\", gender)\n",
    " Name=> Awa  -Age=> 20  -Gender=> male\n",
    " Name=> Zara  -Age=> 25  -Gender=> female\n",
    " Name=> Faty  -Age=> 35  -Gender=> female\n",
    " Name=> Elizabeth  -Age=> 22  -Gender=> female\n",
    " Name=> Mike  -Age=> 29  -Gender=> male"
   ]
  },
  {
   "cell_type": "markdown",
   "id": "ff50a87d",
   "metadata": {},
   "source": [
    "In some cases, the iterables being aggregated or combined, using the zip() function contain an unequal number of items. Does it mean that only those items from multiple iterables are aggregated that correspond to the items in the smallest iterable?\n",
    "\n",
    "For instance, in the script below the genders list only contains 2 items (Male and Female). Using the zip() function to aggregate the names, ages, and genders lists in the following case will only return two tuples containing items."
   ]
  },
  {
   "cell_type": "code",
   "execution_count": null,
   "id": "d3ff6c35",
   "metadata": {},
   "outputs": [],
   "source": [
    "names = [\"Awa\", \"Mike\", \"Zara\", \"Faty\", \"John\"]\n",
    "ages =  [20, 25, 35, 22, 29]\n",
    "genders = [\"male\", \"male\"]\n",
    "\n",
    "records = list(zip(names, ages, genders))\n",
    "print(records)\n",
    "[('Awa', 20, 'male'), ('Mike', 25, 'male')]\n"
   ]
  }
 ],
 "metadata": {
  "kernelspec": {
   "display_name": "Python 3 (ipykernel)",
   "language": "python",
   "name": "python3"
  },
  "language_info": {
   "codemirror_mode": {
    "name": "ipython",
    "version": 3
   },
   "file_extension": ".py",
   "mimetype": "text/x-python",
   "name": "python",
   "nbconvert_exporter": "python",
   "pygments_lexer": "ipython3",
   "version": "3.9.7"
  }
 },
 "nbformat": 4,
 "nbformat_minor": 5
}
